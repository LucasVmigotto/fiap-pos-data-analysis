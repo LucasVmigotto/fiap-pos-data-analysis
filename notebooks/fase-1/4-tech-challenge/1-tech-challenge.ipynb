{
 "cells": [
  {
   "cell_type": "markdown",
   "metadata": {},
   "source": [
    "# Tech Challenge"
   ]
  },
  {
   "cell_type": "markdown",
   "metadata": {},
   "source": [
    "## Descrição\n",
    "\n",
    "Imagine agora, que você vai atuar como Expert em Data Analytics em uma empresa que exporta vinhos do Brasil para o mundo todo.\n",
    "\n",
    "Sua área é recém-criada dentro da empresa, e você será responsável pelos relatórios iniciais a serem apresentados em uma reunião de investidores e acionistas, **explicando a quantidade de vinhos exportados e os fatores externos que podem vir a surgir** e que interferem nas análises:\n",
    "\n",
    "1. Dados climáticos\n",
    "2. Dados demográficos\n",
    "3. Dados econômicos\n",
    "4. Dados de avaliações de vinhos\n",
    "\n",
    "O Head de Dados pediu para que você construísse uma tabela contendo as seguintes informações:\n",
    "\n",
    "1. País de origem (Brasil)\n",
    "2. País de destino\n",
    "3. Quantidade em litros de vinho exportado (utilize: 1kg = 1L)\n",
    "4. Valor em U$D\n",
    "\n",
    "Os dados que lhe forneceram sáo de uma vinícola parceira, e podem ser encontrados [aqui](vitibrasil.cnpuv.embrapa.br/index.php)\n",
    "\n",
    "Seu **objetivo é dizer o montante de venda de exportação nos últimos 15 anos**, separando a **análise por país** e trazendo quais as **prospecções futuras e possíveis ações para uma melhoria nas exportações**. Construa gráficos atraentes e que passem a ideia central para que os acionistas e investidores possam seguir em frente com suas ações.\n",
    "\n",
    "> **Dica**:\n",
    "> \n",
    "> Para construir uma boa análise, utilize várias bases do mesmo site! Outro ponto interessante, é utilizar os dados externos citados acima para enriquecer ainda mais a mensagem que você quer passar."
   ]
  },
  {
   "cell_type": "code",
   "execution_count": null,
   "metadata": {},
   "outputs": [],
   "source": []
  }
 ],
 "metadata": {
  "language_info": {
   "name": "python"
  }
 },
 "nbformat": 4,
 "nbformat_minor": 2
}
